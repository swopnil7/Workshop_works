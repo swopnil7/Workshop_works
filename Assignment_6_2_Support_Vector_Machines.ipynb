{
  "cells": [
    {
      "cell_type": "markdown",
      "metadata": {
        "id": "xIH0uzgf71WH"
      },
      "source": [
        "[![Open In Colab](https://colab.research.google.com/assets/colab-badge.svg)](https://colab.research.google.com/github/Nepal-College-of-Information-Technology/AI-Data-Science-Worksop-2024/blob/main/Practice%20Yourself/Assignment_6.2_Support_Vector_Machines.ipynb)"
      ]
    },
    {
      "cell_type": "markdown",
      "metadata": {
        "id": "zog7p-R-71WL"
      },
      "source": [
        "# Assignment 6.2: Support Vector Machines (SVM)\n",
        "\n",
        "## Objective:\n",
        "Implement an **SVM classifier** to classify handwritten digits using the **digits dataset** from Scikit-learn.\n",
        "\n",
        "### Dataset:\n",
        "Use the **Digits Dataset** from Scikit-learn (`sklearn.datasets.load_digits()`).\n",
        "\n",
        "---\n",
        "\n",
        "## Tasks:\n",
        "\n",
        "### Task 1: Load and Visualize the Dataset\n",
        "\n",
        "#### Load the **digits dataset** from Scikit-learn.\n",
        "```python\n",
        "# Import necessary libraries\n",
        "import matplotlib.pyplot as plt\n",
        "from sklearn.datasets import load_digits\n",
        "\n",
        "# Load the digits dataset\n",
        "digits = load_digits()\n"
      ]
    },
    {
      "cell_type": "markdown",
      "metadata": {
        "id": "grXeKg2-71WP"
      },
      "source": [
        "#### Display the shape of the dataset\n",
        "```python\n",
        "print(f\"Dataset shape: {digits.data.shape}\")\n",
        "print(f\"Target shape: {digits.target.shape}\")\n",
        "\n"
      ]
    },
    {
      "cell_type": "markdown",
      "metadata": {
        "id": "Qk8iufer71WQ"
      },
      "source": [
        "####  Visualize the first few digits with their labels\n",
        "```python\n",
        "plt.figure(figsize=(10, 4))\n",
        "\n",
        "for i in range(10):\n",
        "    plt.subplot(2, 5, i + 1)\n",
        "    plt.imshow(digits.images[i], cmap='gray')\n",
        "    plt.title(f'Label: {digits.target[i]}')\n",
        "    plt.axis('off')\n",
        "\n",
        "plt.tight_layout()\n",
        "plt.show()\n"
      ]
    },
    {
      "cell_type": "code",
      "execution_count": null,
      "metadata": {
        "id": "nLAfxsyA71WS",
        "outputId": "4ea9aad9-b18e-4ea8-9e9a-58b343ed97eb",
        "colab": {
          "base_uri": "https://localhost:8080/",
          "height": 542
        }
      },
      "outputs": [
        {
          "output_type": "stream",
          "name": "stdout",
          "text": [
            "Number of samples: 1797\n",
            "Number of features: 64\n",
            "Dataset shape: (1797, 64)\n",
            "Target shape: (1797,)\n"
          ]
        },
        {
          "output_type": "display_data",
          "data": {
            "text/plain": [
              "<Figure size 1000x500 with 10 Axes>"
            ],
            "image/png": "[encoded data removed]"
          },
          "metadata": {}
        }
      ],
      "source": [
        "import matplotlib.pyplot as plt\n",
        "from sklearn import datasets\n",
        "\n",
        "digits = datasets.load_digits()\n",
        "\n",
        "X = digits.data\n",
        "y = digits.target\n",
        "n_samples, n_features = X.shape\n",
        "print(f\"Number of samples: {n_samples}\")\n",
        "print(f\"Number of features: {n_features}\")\n",
        "print(f\"Dataset shape: {digits.data.shape}\")\n",
        "print(f\"Target shape: {digits.target.shape}\")\n",
        "\n",
        "plt.figure(figsize=(10, 5))\n",
        "for i in range(10):\n",
        "    plt.subplot(2, 5, i + 1)\n",
        "    plt.imshow(digits.images[i], cmap='gray')\n",
        "    plt.title(f\"Label: {digits.target[i]}\")\n",
        "    plt.axis('off')\n",
        "plt.tight_layout()\n",
        "plt.show()\n"
      ]
    },
    {
      "cell_type": "markdown",
      "metadata": {
        "id": "LKk-xvmB71WU"
      },
      "source": [
        "### Task 2: Split the Dataset\n",
        "\n",
        "Split the dataset into training and testing sets using an 80-20 ratio."
      ]
    },
    {
      "cell_type": "code",
      "execution_count": null,
      "metadata": {
        "id": "BtQJ8n1V71WV",
        "outputId": "f86c5155-806d-45c7-e2a3-71f87057d09b",
        "colab": {
          "base_uri": "https://localhost:8080/"
        }
      },
      "outputs": [
        {
          "output_type": "stream",
          "name": "stdout",
          "text": [
            "Training set size: 1437 samples\n",
            "Testing set size: 360 samples\n"
          ]
        }
      ],
      "source": [
        "from sklearn.model_selection import train_test_split\n",
        "\n",
        "X_train, X_test, y_train, y_test = train_test_split(X, y, test_size=0.2, random_state=42)\n",
        "\n",
        "print(f\"Training set size: {X_train.shape[0]} samples\")\n",
        "print(f\"Testing set size: {X_test.shape[0]} samples\")\n"
      ]
    },
    {
      "cell_type": "markdown",
      "metadata": {
        "id": "LiAQme8Y71WW"
      },
      "source": [
        "### Task 3: Train an SVM Classifier\n",
        "\n",
        "1.\tTrain an SVM classifier on the training data using different kernels (linear, rbf, poly).\n",
        "2.\tObserve how the different kernels affect the results."
      ]
    },
    {
      "cell_type": "code",
      "execution_count": null,
      "metadata": {
        "id": "aZ_gaw8U71WX",
        "outputId": "654a5f6e-3ae0-4667-c7da-c392ae77e547",
        "colab": {
          "base_uri": "https://localhost:8080/"
        }
      },
      "outputs": [
        {
          "output_type": "stream",
          "name": "stdout",
          "text": [
            "Accuracy with linear kernel: 0.98\n",
            "Accuracy with rbf kernel: 0.99\n",
            "Accuracy with poly kernel: 0.99\n"
          ]
        }
      ],
      "source": [
        "from sklearn import svm\n",
        "from sklearn.metrics import accuracy_score\n",
        "\n",
        "kernels = ['linear', 'rbf', 'poly']\n",
        "results = {}\n",
        "\n",
        "for kernel in kernels:\n",
        "    clf = svm.SVC(kernel=kernel, random_state=42)\n",
        "\n",
        "    clf.fit(X_train, y_train)\n",
        "\n",
        "    y_pred = clf.predict(X_test)\n",
        "\n",
        "    accuracy = accuracy_score(y_test, y_pred)\n",
        "    results[kernel] = accuracy\n",
        "    print(f\"Accuracy with {kernel} kernel: {accuracy:.2f}\")\n"
      ]
    },
    {
      "cell_type": "markdown",
      "metadata": {
        "id": "bCXhXfVC71WY"
      },
      "source": [
        "### Task 4: Evaluate the SVM Classifier\n",
        "\n",
        "1.\tCalculate the accuracy, precision, recall, and F1-score for each kernel type.\n",
        "2.\tCompare the performance of each kernel."
      ]
    },
    {
      "cell_type": "code",
      "execution_count": null,
      "metadata": {
        "id": "Id7ImHk471WZ",
        "outputId": "26377647-3fcd-4f7b-f3b1-dda5354d0bf7",
        "colab": {
          "base_uri": "https://localhost:8080/"
        }
      },
      "outputs": [
        {
          "output_type": "stream",
          "name": "stdout",
          "text": [
            "\n",
            "Performance Comparison of SVM Classifiers:\n",
            "\n",
            "Kernel: linear\n",
            "Accuracy: 0.98\n",
            "Precision: 0.98\n",
            "Recall: 0.98\n",
            "F1-Score: 0.98\n",
            "\n",
            "Kernel: rbf\n",
            "Accuracy: 0.99\n",
            "Precision: 0.99\n",
            "Recall: 0.99\n",
            "F1-Score: 0.99\n",
            "\n",
            "Kernel: poly\n",
            "Accuracy: 0.99\n",
            "Precision: 0.99\n",
            "Recall: 0.99\n",
            "F1-Score: 0.99\n"
          ]
        }
      ],
      "source": [
        "from sklearn.metrics import precision_score, recall_score, f1_score\n",
        "\n",
        "metrics = {}\n",
        "\n",
        "for kernel in kernels:\n",
        "    clf = svm.SVC(kernel=kernel, random_state=42)\n",
        "    clf.fit(X_train, y_train)\n",
        "\n",
        "    y_pred = clf.predict(X_test)\n",
        "\n",
        "    accuracy = accuracy_score(y_test, y_pred)\n",
        "    precision = precision_score(y_test, y_pred, average='weighted', zero_division=0)\n",
        "    recall = recall_score(y_test, y_pred, average='weighted', zero_division=0)\n",
        "    f1 = f1_score(y_test, y_pred, average='weighted', zero_division=0)\n",
        "\n",
        "    metrics[kernel] = {\n",
        "        'Accuracy': accuracy,\n",
        "        'Precision': precision,\n",
        "        'Recall': recall,\n",
        "        'F1-Score': f1\n",
        "    }\n",
        "\n",
        "print(\"\\nPerformance Comparison of SVM Classifiers:\")\n",
        "for kernel, scores in metrics.items():\n",
        "    print(f\"\\nKernel: {kernel}\")\n",
        "    for metric, value in scores.items():\n",
        "        print(f\"{metric}: {value:.2f}\")\n"
      ]
    },
    {
      "cell_type": "markdown",
      "metadata": {
        "id": "NJZZhaVY71WZ"
      },
      "source": [
        "### Task 5: Confusion Matrix\n",
        "\n",
        "1.\tGenerate the confusion matrix for the SVM classifier with the best-performing kernel.\n",
        "2.\tVisualize the confusion matrix using a heatmap."
      ]
    },
    {
      "cell_type": "code",
      "execution_count": null,
      "metadata": {
        "id": "jalh3tOv71Wa",
        "outputId": "ecbbf0f3-4b06-453c-a283-a6ae95ce5b59",
        "colab": {
          "base_uri": "https://localhost:8080/",
          "height": 658
        }
      },
      "outputs": [
        {
          "output_type": "stream",
          "name": "stdout",
          "text": [
            "Best-performing kernel: poly\n"
          ]
        },
        {
          "output_type": "display_data",
          "data": {
            "text/plain": [
              "<Figure size 1000x700 with 1 Axes>"
            ],
            "image/png": "[encoded data removed]"
          },
          "metadata": {}
        }
      ],
      "source": [
        "import seaborn as sns\n",
        "import matplotlib.pyplot as plt\n",
        "from sklearn.metrics import confusion_matrix\n",
        "\n",
        "best_kernel = max(metrics, key=lambda k: metrics[k]['Accuracy'])\n",
        "print(f\"Best-performing kernel: {best_kernel}\")\n",
        "\n",
        "best_clf = svm.SVC(kernel=best_kernel, random_state=42)\n",
        "best_clf.fit(X_train, y_train)\n",
        "\n",
        "y_pred_best = best_clf.predict(X_test)\n",
        "\n",
        "cm = confusion_matrix(y_test, y_pred_best)\n",
        "\n",
        "plt.figure(figsize=(10, 7))\n",
        "sns.heatmap(cm, annot=True, fmt='d', cmap='Blues', cbar=False,\n",
        "            xticklabels=range(10), yticklabels=range(10))\n",
        "plt.title(f'Confusion Matrix for SVM Classifier (Kernel: {best_kernel})')\n",
        "plt.xlabel('Predicted Labels')\n",
        "plt.ylabel('True Labels')\n",
        "plt.show()"
      ]
    },
    {
      "cell_type": "markdown",
      "metadata": {
        "id": "Y1sjmrpT71Wc"
      },
      "source": [
        "Which model performed better, and why?\n",
        "\n",
        "-> Looking at the accuracy & pecision scores of each models, I think RBF and Poly outperformed linear by a slight margin.."
      ]
    },
    {
      "cell_type": "markdown",
      "metadata": {
        "id": "FERg28uE71Wc"
      },
      "source": [
        "---"
      ]
    }
  ],
  "metadata": {
    "kernelspec": {
      "display_name": "base",
      "language": "python",
      "name": "python3"
    },
    "language_info": {
      "codemirror_mode": {
        "name": "ipython",
        "version": 3
      },
      "file_extension": ".py",
      "mimetype": "text/x-python",
      "name": "python",
      "nbconvert_exporter": "python",
      "pygments_lexer": "ipython3",
      "version": "3.10.6"
    },
    "colab": {
      "provenance": []
    }
  },
  "nbformat": 4,
  "nbformat_minor": 0
}