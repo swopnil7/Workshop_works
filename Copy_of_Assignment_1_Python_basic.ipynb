{
  "cells": [
    {
      "cell_type": "markdown",
      "id": "b01d8277",
      "metadata": {
        "id": "b01d8277"
      },
      "source": [
        "[![Open In Colab](https://colab.research.google.com/assets/colab-badge.svg)](https://colab.research.google.com/github/Nepal-College-of-Information-Technology/AI-Data-Science-Worksop-2024/blob/main/Practice%20Yourself/Assignment_1_Python_basic.ipynb)"
      ]
    },
    {
      "cell_type": "markdown",
      "id": "b731f5b3",
      "metadata": {
        "id": "b731f5b3"
      },
      "source": [
        "\n",
        "# Assignment 1: Python Basics\n",
        "\n",
        "This assignment consists of three simple questions, three medium-level questions, and four more challenging (optional) questions. Please attempt the first six questions, and try the optional questions if you feel confident.\n",
        "\n",
        "### Instructions:\n",
        "- Each question is followed by a code cell. Write your solution in the provided space.\n",
        "- For optional questions, you can attempt them if you want extra practice.\n",
        "\n",
        "---\n",
        "\n",
        "## Simple Questions:\n",
        "    "
      ]
    },
    {
      "cell_type": "markdown",
      "id": "8b0ce127",
      "metadata": {
        "id": "8b0ce127"
      },
      "source": [
        "\n",
        "### 1. Print \"Hello, Python!\"\n",
        "\n",
        "**Hint**: Use the `print()` function to display text.\n",
        "    "
      ]
    },
    {
      "cell_type": "code",
      "execution_count": 4,
      "id": "9981874e",
      "metadata": {
        "id": "9981874e",
        "colab": {
          "base_uri": "https://localhost:8080/"
        },
        "outputId": "60b7dcf7-88da-4c99-80fa-2928a1dc076d"
      },
      "outputs": [
        {
          "output_type": "stream",
          "name": "stdout",
          "text": [
            "Hello, Python!\n"
          ]
        }
      ],
      "source": [
        "print(\"Hello, Python!\")"
      ]
    },
    {
      "cell_type": "markdown",
      "id": "a4f64b9b",
      "metadata": {
        "id": "a4f64b9b"
      },
      "source": [
        "\n",
        "### 2. Define two variables: one integer and one string. Print them together in a single sentence.\n",
        "\n",
        "**Hint**: Use `print()` and string concatenation or formatted strings.    "
      ]
    },
    {
      "cell_type": "code",
      "execution_count": 7,
      "id": "3b374cac",
      "metadata": {
        "id": "3b374cac",
        "colab": {
          "base_uri": "https://localhost:8080/"
        },
        "outputId": "30791238-463c-4016-b271-13dda5dd2fd1"
      },
      "outputs": [
        {
          "output_type": "stream",
          "name": "stdout",
          "text": [
            "My name is Swopnil and I am 18 years old.\n"
          ]
        }
      ],
      "source": [
        "name = \"Swopnil\"\n",
        "age = 18\n",
        "\n",
        "print(f\"My name is {name} and I am {age} years old.\")"
      ]
    },
    {
      "cell_type": "markdown",
      "id": "3ed1d351",
      "metadata": {
        "id": "3ed1d351"
      },
      "source": [
        "\n",
        "### 3. Create a list of 5 numbers. Print the sum of the numbers.\n",
        "\n",
        "**Hint**: Use the `sum()` function.\n"
      ]
    },
    {
      "cell_type": "code",
      "execution_count": 11,
      "id": "32a7486d",
      "metadata": {
        "id": "32a7486d",
        "colab": {
          "base_uri": "https://localhost:8080/"
        },
        "outputId": "726e95dd-360f-4164-de90-d089d5b6f5bd"
      },
      "outputs": [
        {
          "output_type": "stream",
          "name": "stdout",
          "text": [
            "The sum of the given numbers is 51.\n"
          ]
        }
      ],
      "source": [
        "numbers = [5, 7, 9, 11, 19]\n",
        "print(f\"The sum of the given numbers is {sum(numbers)}.\")"
      ]
    },
    {
      "cell_type": "markdown",
      "id": "a3ade1a0",
      "metadata": {
        "id": "a3ade1a0"
      },
      "source": [
        "\n",
        "---\n",
        "\n",
        "## Medium-Level Questions:\n",
        "    "
      ]
    },
    {
      "cell_type": "markdown",
      "id": "01a6f9ee",
      "metadata": {
        "id": "01a6f9ee"
      },
      "source": [
        "\n",
        "### 4. Write a function that takes two numbers and returns their product.\n",
        "\n",
        "**Hint**: Use the `def` keyword to define a function, and use the `return` statement to return the result.\n",
        "\n",
        "    "
      ]
    },
    {
      "cell_type": "code",
      "execution_count": 15,
      "id": "83a4861a",
      "metadata": {
        "id": "83a4861a",
        "colab": {
          "base_uri": "https://localhost:8080/"
        },
        "outputId": "96dc7250-4cd1-4092-e723-80d5a297309b"
      },
      "outputs": [
        {
          "output_type": "stream",
          "name": "stdout",
          "text": [
            "The product of the above 2 numbers is 63.\n"
          ]
        }
      ],
      "source": [
        "def multiply(a, b):\n",
        "  return a*b\n",
        "\n",
        "result = multiply(7, 9)\n",
        "print(f\"The product of the above 2 numbers is {result}.\")"
      ]
    },
    {
      "cell_type": "markdown",
      "id": "f981eef5",
      "metadata": {
        "id": "f981eef5"
      },
      "source": [
        "\n",
        "### 5. Use a `for` loop to print the numbers from 1 to 10.\n",
        "\n",
        "**Hint**: Use the `range()` function to generate the numbers.\n",
        "\n",
        "\n",
        "    "
      ]
    },
    {
      "cell_type": "code",
      "execution_count": 18,
      "id": "d7c96f4a",
      "metadata": {
        "id": "d7c96f4a",
        "colab": {
          "base_uri": "https://localhost:8080/"
        },
        "outputId": "9afbfec5-9902-4b08-bc9b-9b168865d2f0"
      },
      "outputs": [
        {
          "output_type": "stream",
          "name": "stdout",
          "text": [
            "1\n",
            "2\n",
            "3\n",
            "4\n",
            "5\n",
            "6\n",
            "7\n",
            "8\n",
            "9\n",
            "10\n"
          ]
        }
      ],
      "source": [
        "for i in range(1, 11):\n",
        "  print(i)"
      ]
    },
    {
      "cell_type": "markdown",
      "id": "f813fcc9",
      "metadata": {
        "id": "f813fcc9"
      },
      "source": [
        "\n",
        "### 6. Write a function that checks if a number is prime.\n",
        "\n",
        "**Hint**: A prime number is a number greater than 1 that has no divisors other than 1 and itself.\n",
        "\n",
        "    "
      ]
    },
    {
      "cell_type": "code",
      "execution_count": 22,
      "id": "9f4804b4",
      "metadata": {
        "id": "9f4804b4",
        "colab": {
          "base_uri": "https://localhost:8080/"
        },
        "outputId": "1af2e77c-ba78-4cc3-ddd2-79092fe7cdc5"
      },
      "outputs": [
        {
          "output_type": "stream",
          "name": "stdout",
          "text": [
            "Enter a number: 1\n",
            "1 is not a prime number.\n"
          ]
        }
      ],
      "source": [
        "def is_prime(number):\n",
        "    if number <= 1:\n",
        "        return False\n",
        "    for i in range(2, number):\n",
        "        if number % i == 0:\n",
        "            return False\n",
        "    return True\n",
        "\n",
        "num = int(input(\"Enter a number: \"))\n",
        "\n",
        "if is_prime(num):\n",
        "    print(f\"{num} is a prime number.\")\n",
        "else:\n",
        "    print(f\"{num} is not a prime number.\")\n"
      ]
    },
    {
      "cell_type": "markdown",
      "id": "54b82acb",
      "metadata": {
        "id": "54b82acb"
      },
      "source": [
        "\n",
        "---\n",
        "\n",
        "## Optional (More Challenging) Questions:\n",
        "    "
      ]
    },
    {
      "cell_type": "markdown",
      "id": "8471b0dc",
      "metadata": {
        "id": "8471b0dc"
      },
      "source": [
        "\n",
        "### 7. Write a program that reverses a string provided by the user.\n",
        "\n",
        "**Hint**: You can reverse a string by slicing with a negative step `[::-1]`.\n",
        "    "
      ]
    },
    {
      "cell_type": "code",
      "execution_count": 47,
      "id": "5514ec5a",
      "metadata": {
        "id": "5514ec5a",
        "colab": {
          "base_uri": "https://localhost:8080/"
        },
        "outputId": "e40fba99-e7b1-4c80-a73f-a33543e51e92"
      },
      "outputs": [
        {
          "output_type": "stream",
          "name": "stdout",
          "text": [
            "Enter a string to reverse: 1 2 3 4\n",
            "The reversed string is 4 3 2 1\n"
          ]
        }
      ],
      "source": [
        "user_string = input(\"Enter a string to reverse: \")\n",
        "reversed_string = user_string[::-1]\n",
        "print(f\"The reversed string is {reversed_string}\")\n"
      ]
    },
    {
      "cell_type": "markdown",
      "source": [],
      "metadata": {
        "id": "Qc20Rch-KttG"
      },
      "id": "Qc20Rch-KttG"
    },
    {
      "cell_type": "markdown",
      "id": "530509e0",
      "metadata": {
        "id": "530509e0"
      },
      "source": [
        "\n",
        "### 8. Create a program that finds the factorial of a number.\n",
        "\n",
        "**Hint**: The factorial of `n` is the product of all positive integers less than or equal to `n`. You can use a loop or recursion to solve this.\n",
        "\n",
        "    "
      ]
    },
    {
      "cell_type": "code",
      "execution_count": 46,
      "id": "0c791a7e",
      "metadata": {
        "id": "0c791a7e",
        "colab": {
          "base_uri": "https://localhost:8080/"
        },
        "outputId": "812103f9-8a86-491e-fd8f-c5756f4aebc8"
      },
      "outputs": [
        {
          "output_type": "stream",
          "name": "stdout",
          "text": [
            "Enter a number to find its factorial: 4\n",
            "The factorial of 4 is 24.\n"
          ]
        }
      ],
      "source": [
        "def factorial(n):\n",
        "    if n == 0 or n == 1:\n",
        "        return 1\n",
        "    else:\n",
        "        return n * factorial(n - 1)\n",
        "\n",
        "num = int(input(\"Enter a number to find its factorial: \"))\n",
        "\n",
        "result = factorial(num)\n",
        "print(f\"The factorial of {num} is {result}.\")"
      ]
    },
    {
      "cell_type": "markdown",
      "id": "525b8911",
      "metadata": {
        "id": "525b8911"
      },
      "source": [
        "\n",
        "### 9. Write a function to calculate the Fibonacci sequence up to a given number.\n",
        "\n",
        "**Hint**: Each number in the sequence is the sum of the two preceding ones, starting from 0 and 1.\n",
        "\n",
        "\n",
        "    "
      ]
    },
    {
      "cell_type": "code",
      "execution_count": 45,
      "id": "de48a240",
      "metadata": {
        "id": "de48a240",
        "colab": {
          "base_uri": "https://localhost:8080/"
        },
        "outputId": "38627bc7-a824-4865-8c57-3a28ed4eadd4"
      },
      "outputs": [
        {
          "output_type": "stream",
          "name": "stdout",
          "text": [
            "Enter the maximum number for the Fibonacci sequence: 5\n",
            "The Fibonacci sequence up to 5 is [0, 1, 1, 2, 3, 5]\n"
          ]
        }
      ],
      "source": [
        "def fibonacci(max_number):\n",
        "    sequence = []\n",
        "    a, b = 0, 1\n",
        "    while a <= max_number:\n",
        "      sequence.append(a)\n",
        "      a, b = b, a + b\n",
        "    return sequence\n",
        "\n",
        "max_num = int(input(\"Enter the maximum number for the Fibonacci sequence: \"))\n",
        "fib_sequence = fibonacci(max_num)\n",
        "print(f\"The Fibonacci sequence up to {max_num} is {fib_sequence}\")"
      ]
    },
    {
      "cell_type": "markdown",
      "id": "7aab01a3",
      "metadata": {
        "id": "7aab01a3"
      },
      "source": [
        "\n",
        "### 10. Find the largest number in a list without using the `max()` function.\n",
        "\n",
        "**Hint**: Use a loop to compare each element of the list and keep track of the largest value.\n",
        "\n",
        "    "
      ]
    },
    {
      "cell_type": "code",
      "execution_count": 36,
      "id": "180659db",
      "metadata": {
        "id": "180659db",
        "colab": {
          "base_uri": "https://localhost:8080/"
        },
        "outputId": "4316a8f7-4dc9-40bb-e0ef-db9a4519d20e"
      },
      "outputs": [
        {
          "output_type": "stream",
          "name": "stdout",
          "text": [
            "The largest number in the list is 89.\n"
          ]
        }
      ],
      "source": [
        "def largest_number(numbers):\n",
        "    largest = numbers[0]\n",
        "    for number in numbers:\n",
        "        if number > largest:\n",
        "            largest = number\n",
        "\n",
        "    return largest\n",
        "\n",
        "numbers_list = [10, 25, 4, 67, 89, 12]\n",
        "largest_num = largest_number(numbers_list)\n",
        "print(f\"The largest number in the list is {largest_num}.\")\n"
      ]
    }
  ],
  "metadata": {
    "kernelspec": {
      "display_name": "base",
      "language": "python",
      "name": "python3"
    },
    "language_info": {
      "codemirror_mode": {
        "name": "ipython",
        "version": 3
      },
      "file_extension": ".py",
      "mimetype": "text/x-python",
      "name": "python",
      "nbconvert_exporter": "python",
      "pygments_lexer": "ipython3",
      "version": "3.10.6"
    },
    "colab": {
      "provenance": []
    }
  },
  "nbformat": 4,
  "nbformat_minor": 5
}