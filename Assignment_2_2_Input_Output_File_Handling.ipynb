{
  "cells": [
    {
      "cell_type": "markdown",
      "id": "684ad7ca",
      "metadata": {
        "id": "684ad7ca"
      },
      "source": [
        "[![Open In Colab](https://colab.research.google.com/assets/colab-badge.svg)](https://colab.research.google.com/github/Nepal-College-of-Information-Technology/AI-Data-Science-Worksop-2024/blob/main/Practice%20Yourself/Assignment_2.2_Input_Output_File_Handling.ipynb)"
      ]
    },
    {
      "cell_type": "markdown",
      "id": "469ec233",
      "metadata": {
        "id": "469ec233"
      },
      "source": [
        "\n",
        "# Assignment 2.2: Input/Output and File Handling\n",
        "\n",
        "This assignment consists of two tasks related to reading, writing, and manipulating files in Python.\n",
        "\n",
        "---\n",
        "\n",
        "## **Task 1: User Registration System**\n",
        "\n",
        "Write a Python program that:\n",
        "1. Prompts the user to enter their name and email.\n",
        "2. Saves this information to a file called `users.txt`.\n",
        "3. Reads the file and prints all registered users.\n",
        "\n",
        "**Hints**:\n",
        "- Use `open()` with `'a'` mode to append new users to the file.\n",
        "- Use `open()` with `'r'` mode to read and print the file content."
      ]
    },
    {
      "cell_type": "code",
      "execution_count": null,
      "id": "e59aad17",
      "metadata": {
        "colab": {
          "base_uri": "https://localhost:8080/"
        },
        "id": "e59aad17",
        "outputId": "2c18c481-8367-4e24-9ee6-d14593815560"
      },
      "outputs": [
        {
          "output_type": "stream",
          "name": "stdout",
          "text": [
            "Enter your name: Jude\n",
            "Enter your email: Madrid@proton.mail\n",
            "\n",
            "Registered users:\n",
            "Name: Ramesh, Email: ramesh@gmail.com\n",
            "\n",
            "Name: Sambhav Karki, Email: sambhav@gmail.com\n",
            "\n",
            "Name: Swopnil, Email: report2swopnil@gmail.com\n",
            "\n",
            "Name: Jude, Email: Madrid@proton.mail\n",
            "\n"
          ]
        }
      ],
      "source": [
        "name = input(\"Enter your name: \")\n",
        "email = input(\"Enter your email: \")\n",
        "\n",
        "with open(\"/content/users.txt\", \"a\") as file:\n",
        "    file.write(f\"Name: {name}, Email: {email}\\n\")\n",
        "\n",
        "print(\"\\nRegistered users:\")\n",
        "with open(\"users.txt\", \"r\") as file:\n",
        "    for line in file:\n",
        "        print(line)\n"
      ]
    },
    {
      "cell_type": "markdown",
      "id": "e122679d",
      "metadata": {
        "id": "e122679d"
      },
      "source": [
        "---\n",
        "\n",
        "## **Task 2: Employee Data from CSV**\n",
        "\n",
        "Write a Python program that:\n",
        "1. Reads employee data from the provided `employees.csv` file.\n",
        "2. Prints the names and salaries of all employees.\n",
        "3. Finds and prints the employee with the highest salary.\n",
        "4. Adds a new employee to the CSV file.\n",
        "\n",
        "**Hints**:\n",
        "- Use `csv.reader()` to read the CSV file.\n",
        "- Use the `open()` function with `'a'` mode to append a new employee.\n",
        "    "
      ]
    },
    {
      "cell_type": "code",
      "execution_count": null,
      "id": "8b5a4f3b",
      "metadata": {
        "colab": {
          "base_uri": "https://localhost:8080/"
        },
        "id": "8b5a4f3b",
        "outputId": "7929aa09-d29a-4324-ba01-db975973695f"
      },
      "outputs": [
        {
          "name": "stdout",
          "output_type": "stream",
          "text": [
            "Name: Dikshya Thapa , Salary: 75000\n",
            "Name: Prasun Manandhar , Salary: 68000\n",
            "Name: Avijit Gurung , Salary: 56000\n",
            "Name: Santosh Neupane , Salary: 60000\n",
            "Name: Wilson Shrestha , Salary: 65000\n",
            "Name: Rajani Mandal , Salary:  70000\n",
            "Name: Swopnil Adhikari , Salary: 300000\n",
            "\n",
            "Employee with the highest salary: Swopnil Adhikari , Salary: 300000\n",
            "\n",
            "Enter the name of the new employee: Vini Jr\n",
            "Enter the position of the new employee: PA\n",
            "Enter the salary of the new employee: 100000\n"
          ]
        }
      ],
      "source": [
        "with open('/content/employees.csv', 'r') as file:\n",
        "    reader = csv.reader(file)\n",
        "    next(reader)\n",
        "    employees = []\n",
        "    for row in reader:\n",
        "        employees.append(row)\n",
        "        print(\"Name:\", row[0], \", Salary:\", row[2])\n",
        "\n",
        "highest_salary_employee = employees[0]\n",
        "for employee in employees:\n",
        "    if int(employee[2]) > int(highest_salary_employee[2]):\n",
        "        highest_salary_employee = employee\n",
        "print(\"\\nEmployee with the highest salary:\", highest_salary_employee[0], \", Salary:\", highest_salary_employee[2])\n",
        "\n",
        "new_name = input(\"\\nEnter the name of the new employee: \")\n",
        "new_position = input(\"Enter the position of the new employee: \")\n",
        "new_salary = input(\"Enter the salary of the new employee: \")\n",
        "\n",
        "with open('employees.csv', 'a', newline='') as file:\n",
        "    writer = csv.writer(file)\n",
        "    writer.writerow([new_name, new_position, new_salary])\n"
      ]
    },
    {
      "cell_type": "markdown",
      "id": "43dd44f1",
      "metadata": {
        "id": "43dd44f1"
      },
      "source": [
        "---"
      ]
    }
  ],
  "metadata": {
    "kernelspec": {
      "display_name": "base",
      "language": "python",
      "name": "python3"
    },
    "language_info": {
      "codemirror_mode": {
        "name": "ipython",
        "version": 3
      },
      "file_extension": ".py",
      "mimetype": "text/x-python",
      "name": "python",
      "nbconvert_exporter": "python",
      "pygments_lexer": "ipython3",
      "version": "3.10.6"
    },
    "colab": {
      "provenance": []
    }
  },
  "nbformat": 4,
  "nbformat_minor": 5
}