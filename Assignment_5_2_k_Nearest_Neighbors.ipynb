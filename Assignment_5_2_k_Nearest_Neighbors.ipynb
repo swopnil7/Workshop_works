{
  "cells": [
    {
      "cell_type": "markdown",
      "metadata": {
        "id": "hsHs1n8BfxvC"
      },
      "source": [
        "[![Open In Colab](https://colab.research.google.com/assets/colab-badge.svg)](https://colab.research.google.com/github/Nepal-College-of-Information-Technology/AI-Data-Science-Worksop-2024/blob/main/Practice%20Yourself/Assignment_5.2_k-Nearest_Neighbors.ipynb)"
      ]
    },
    {
      "cell_type": "markdown",
      "metadata": {
        "id": "GlZWzVgBfxvI"
      },
      "source": [
        "## Assignment 5.2: k-Nearest Neighbors (k-NN)\n",
        "\n",
        "#### Objective: Implement a k-NN classifier to classify flowers using the Iris dataset."
      ]
    },
    {
      "cell_type": "markdown",
      "metadata": {
        "id": "QkilIxmLfxvK"
      },
      "source": [
        "### \tTask 1: Load the Iris dataset using Scikit-learn."
      ]
    },
    {
      "cell_type": "code",
      "execution_count": null,
      "metadata": {
        "id": "Vna1mQ1BfxvL",
        "outputId": "3b143de8-e245-4ce6-bb0f-a938b1e0e42f",
        "colab": {
          "base_uri": "https://localhost:8080/"
        }
      },
      "outputs": [
        {
          "output_type": "stream",
          "name": "stdout",
          "text": [
            "   sepal length (cm)  sepal width (cm)  petal length (cm)  petal width (cm)  \\\n",
            "0                5.1               3.5                1.4               0.2   \n",
            "1                4.9               3.0                1.4               0.2   \n",
            "2                4.7               3.2                1.3               0.2   \n",
            "3                4.6               3.1                1.5               0.2   \n",
            "4                5.0               3.6                1.4               0.2   \n",
            "\n",
            "   species  \n",
            "0        0  \n",
            "1        0  \n",
            "2        0  \n",
            "3        0  \n",
            "4        0  \n"
          ]
        }
      ],
      "source": [
        "from sklearn.datasets import load_iris\n",
        "import pandas as pd\n",
        "\n",
        "iris = load_iris()\n",
        "\n",
        "iris_df = pd.DataFrame(data=iris.data, columns=iris.feature_names)\n",
        "\n",
        "iris_df['species'] = iris.target\n",
        "\n",
        "print(iris_df.head())"
      ]
    },
    {
      "cell_type": "markdown",
      "metadata": {
        "id": "6kVvqhOqfxvN"
      },
      "source": [
        "### Task 2: Split the dataset into training and testing sets."
      ]
    },
    {
      "cell_type": "code",
      "execution_count": null,
      "metadata": {
        "id": "V30ScBPofxvO",
        "outputId": "30d59ab4-79a3-4440-beec-f0d49c672855",
        "colab": {
          "base_uri": "https://localhost:8080/"
        }
      },
      "outputs": [
        {
          "output_type": "stream",
          "name": "stdout",
          "text": [
            "Training set size: 120 samples\n",
            "Testing set size: 30 samples\n"
          ]
        }
      ],
      "source": [
        "from sklearn.model_selection import train_test_split\n",
        "\n",
        "X = iris.data\n",
        "y = iris.target\n",
        "\n",
        "X_train, X_test, y_train, y_test = train_test_split(X, y, test_size=0.2, random_state=42)\n",
        "\n",
        "print(f\"Training set size: {X_train.shape[0]} samples\")\n",
        "print(f\"Testing set size: {X_test.shape[0]} samples\")\n"
      ]
    },
    {
      "cell_type": "markdown",
      "metadata": {
        "id": "MjjFrytdfxvQ"
      },
      "source": [
        "### Task 3: Train a k-NN classifier with k = 3."
      ]
    },
    {
      "cell_type": "code",
      "execution_count": null,
      "metadata": {
        "id": "NA7SsSy1fxvR",
        "outputId": "014683be-46de-4c58-a604-0e78b83655bf",
        "colab": {
          "base_uri": "https://localhost:8080/"
        }
      },
      "outputs": [
        {
          "output_type": "stream",
          "name": "stdout",
          "text": [
            "k-NN classifier trained with k = 3.\n"
          ]
        }
      ],
      "source": [
        "from sklearn.neighbors import KNeighborsClassifier\n",
        "\n",
        "knn = KNeighborsClassifier(n_neighbors=3)\n",
        "knn.fit(X_train, y_train)\n",
        "\n",
        "print(\"k-NN classifier trained with k = 3.\")\n"
      ]
    },
    {
      "cell_type": "markdown",
      "metadata": {
        "id": "1oSrkZx9fxvT"
      },
      "source": [
        "### Task 4: Make predictions on the test data and evaluate the model’s accuracy."
      ]
    },
    {
      "cell_type": "code",
      "execution_count": null,
      "metadata": {
        "id": "WoGI34wrfxvU",
        "outputId": "740484ea-12d2-4ee8-8d92-4bd4a325d4d3",
        "colab": {
          "base_uri": "https://localhost:8080/"
        }
      },
      "outputs": [
        {
          "output_type": "stream",
          "name": "stdout",
          "text": [
            "Model Accuracy: 100.00%\n"
          ]
        }
      ],
      "source": [
        "from sklearn.metrics import accuracy_score\n",
        "\n",
        "y_pred = knn.predict(X_test)\n",
        "accuracy = accuracy_score(y_test, y_pred)\n",
        "\n",
        "print(f\"Model Accuracy: {accuracy * 100:.2f}%\")\n"
      ]
    },
    {
      "cell_type": "markdown",
      "metadata": {
        "id": "SmIUEqzMfxvW"
      },
      "source": [
        "### Task 5: Experiment with different values of k and observe the accuracy changes."
      ]
    },
    {
      "cell_type": "code",
      "execution_count": null,
      "metadata": {
        "id": "ZMxRYCmufxvW",
        "outputId": "8278b41e-89fd-48d8-9e4c-c145c26b5618",
        "colab": {
          "base_uri": "https://localhost:8080/",
          "height": 646
        }
      },
      "outputs": [
        {
          "output_type": "stream",
          "name": "stdout",
          "text": [
            "Model Accuracy with k=1: 100.00%\n",
            "Model Accuracy with k=2: 100.00%\n",
            "Model Accuracy with k=3: 100.00%\n",
            "Model Accuracy with k=4: 100.00%\n",
            "Model Accuracy with k=5: 100.00%\n",
            "Model Accuracy with k=6: 100.00%\n",
            "Model Accuracy with k=7: 96.67%\n",
            "Model Accuracy with k=8: 100.00%\n",
            "Model Accuracy with k=9: 100.00%\n",
            "Model Accuracy with k=10: 100.00%\n"
          ]
        },
        {
          "output_type": "display_data",
          "data": {
            "text/plain": [
              "<Figure size 640x480 with 1 Axes>"
            ],
            "image/png": "[encoded data removed]"
          },
          "metadata": {}
        }
      ],
      "source": [
        "accuracies = []\n",
        "\n",
        "for k in range(1, 11):\n",
        "    knn = KNeighborsClassifier(n_neighbors=k)\n",
        "    knn.fit(X_train, y_train)\n",
        "    y_pred = knn.predict(X_test)\n",
        "    accuracy = accuracy_score(y_test, y_pred)\n",
        "    accuracies.append((k, accuracy))\n",
        "    print(f\"Model Accuracy with k={k}: {accuracy * 100:.2f}%\")\n",
        "\n",
        "import matplotlib.pyplot as plt\n",
        "\n",
        "k_values, accuracy_scores = zip(*accuracies)\n",
        "\n",
        "plt.plot(k_values, accuracy_scores, marker='o')\n",
        "plt.title('k-NN Accuracy vs. k Value')\n",
        "plt.xlabel('k Value')\n",
        "plt.ylabel('Accuracy')\n",
        "plt.xticks(k_values)\n",
        "plt.grid()\n",
        "plt.show()\n"
      ]
    },
    {
      "cell_type": "markdown",
      "metadata": {
        "id": "Z3_mRwx9fxvX"
      },
      "source": [
        "---"
      ]
    }
  ],
  "metadata": {
    "kernelspec": {
      "display_name": "base",
      "language": "python",
      "name": "python3"
    },
    "language_info": {
      "codemirror_mode": {
        "name": "ipython",
        "version": 3
      },
      "file_extension": ".py",
      "mimetype": "text/x-python",
      "name": "python",
      "nbconvert_exporter": "python",
      "pygments_lexer": "ipython3",
      "version": "3.10.6"
    },
    "colab": {
      "provenance": []
    }
  },
  "nbformat": 4,
  "nbformat_minor": 0
}