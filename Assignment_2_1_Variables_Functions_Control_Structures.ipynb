{
  "cells": [
    {
      "cell_type": "markdown",
      "id": "bfdeaa04",
      "metadata": {
        "id": "bfdeaa04"
      },
      "source": [
        "[![Open In Colab](https://colab.research.google.com/assets/colab-badge.svg)](https://colab.research.google.com/github/Nepal-College-of-Information-Technology/AI-Data-Science-Worksop-2024/blob/main/Practice%20Yourself/Assignment_2.1_Variables_Functions_Control_Structures.ipynb)"
      ]
    },
    {
      "cell_type": "markdown",
      "id": "a78f1dbd",
      "metadata": {
        "id": "a78f1dbd"
      },
      "source": [
        "\n",
        "# Assignment 1: Variables, Data Types, Functions, and Control Structures\n",
        "\n",
        "This assignment consists of two tasks to help you practice and strengthen your understanding of variables, data types, functions, and control structures.\n",
        "\n",
        "---\n",
        "\n",
        "## **Task 1: List Operations**\n",
        "\n",
        "Write a Python program that:\n",
        "1. Takes a list of numbers as input from the user.\n",
        "2. Prints the sum of the numbers.\n",
        "3. Removes the highest and lowest numbers from the list.\n",
        "4. Prints the updated list and its average.\n",
        "\n",
        "**Hints**:\n",
        "- Use the `input()` function to get input from the user.\n",
        "- Convert the input string to a list of integers.\n",
        "- Use `sum()`, `min()`, and `max()` to perform the necessary operations.    "
      ]
    },
    {
      "cell_type": "code",
      "execution_count": null,
      "id": "aaeda0e0",
      "metadata": {
        "id": "aaeda0e0",
        "outputId": "0659e82c-6b46-4630-88e8-588120684c95",
        "colab": {
          "base_uri": "https://localhost:8080/"
        }
      },
      "outputs": [
        {
          "output_type": "stream",
          "name": "stdout",
          "text": [
            "Enter numbers separated by spaces: 1 3 5 7 9\n",
            "Sum of the numbers: 25\n",
            "Updated list after removing the highest and lowest numbers: [3, 5, 7]\n",
            "Average of the updated list: 5.0\n"
          ]
        }
      ],
      "source": [
        "input_string = input(\"Enter numbers separated by spaces: \")\n",
        "numbers_list = list(map(int, input_string.split()))\n",
        "\n",
        "total_sum = sum(numbers_list)\n",
        "print(\"Sum of the numbers:\", total_sum)\n",
        "\n",
        "numbers_list.remove(max(numbers_list))\n",
        "numbers_list.remove(min(numbers_list))\n",
        "\n",
        "print(\"Updated list after removing the highest and lowest numbers:\", numbers_list)\n",
        "\n",
        "average = sum(numbers_list) / len(numbers_list)\n",
        "print(\"Average of the updated list:\", average)\n"
      ]
    },
    {
      "cell_type": "markdown",
      "id": "a66678b3",
      "metadata": {
        "id": "a66678b3"
      },
      "source": [
        "---\n",
        "\n",
        "## **Task 2: Dictionary Manipulation**\n",
        "\n",
        "Write a Python program that:\n",
        "1. Defines a dictionary with student names as keys and their grades as values.\n",
        "2. Allows the user to add a new student and their grade to the dictionary.\n",
        "3. Calculates and prints the average grade of all students.\n",
        "4. Prints the dictionary in a sorted order based on student names.\n",
        "\n",
        "**Hints**:\n",
        "- Use `input()` to get the student name and grade from the user.\n",
        "- Use the `sorted()` function to sort the dictionary by student names."
      ]
    },
    {
      "cell_type": "code",
      "execution_count": 1,
      "id": "285b3bb5",
      "metadata": {
        "id": "285b3bb5",
        "colab": {
          "base_uri": "https://localhost:8080/"
        },
        "outputId": "21bdab48-9083-4fb3-f9d6-d328116f1a2c"
      },
      "outputs": [
        {
          "output_type": "stream",
          "name": "stdout",
          "text": [
            "Enter the name of the new student: Swopnil\n",
            "Enter the grade: 99\n",
            "Average grade: 88.4\n",
            "Alice : 85\n",
            "Bob : 78\n",
            "Charlie : 92\n",
            "David : 88\n",
            "Swopnil : 99\n"
          ]
        }
      ],
      "source": [
        "students_grades = {\"Alice\": 85, \"Bob\": 78, \"Charlie\": 92, \"David\": 88}\n",
        "\n",
        "new_student = input(\"Enter the name of the new student: \")\n",
        "new_grade = int(input(\"Enter the grade: \"))\n",
        "students_grades[new_student] = new_grade\n",
        "\n",
        "total_grades = sum(students_grades.values())\n",
        "average_grade = total_grades / len(students_grades)\n",
        "print(\"Average grade:\", average_grade)\n",
        "\n",
        "for student in sorted(students_grades):\n",
        "    print(student, \":\", students_grades[student])\n",
        "\n"
      ]
    },
    {
      "cell_type": "markdown",
      "id": "5c781be6",
      "metadata": {
        "id": "5c781be6"
      },
      "source": [
        "---"
      ]
    }
  ],
  "metadata": {
    "kernelspec": {
      "display_name": "base",
      "language": "python",
      "name": "python3"
    },
    "language_info": {
      "codemirror_mode": {
        "name": "ipython",
        "version": 3
      },
      "file_extension": ".py",
      "mimetype": "text/x-python",
      "name": "python",
      "nbconvert_exporter": "python",
      "pygments_lexer": "ipython3",
      "version": "3.10.6"
    },
    "colab": {
      "provenance": []
    }
  },
  "nbformat": 4,
  "nbformat_minor": 5
}