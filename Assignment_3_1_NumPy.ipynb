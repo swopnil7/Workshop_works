{
  "cells": [
    {
      "cell_type": "markdown",
      "metadata": {
        "id": "Yewd2PlTEt0I"
      },
      "source": [
        "[![Open In Colab](https://colab.research.google.com/assets/colab-badge.svg)](https://colab.research.google.com/github/Nepal-College-of-Information-Technology/AI-Data-Science-Worksop-2024/blob/main/Practice%20Yourself/Assignment_3.1_NumPy.ipynb)"
      ]
    },
    {
      "cell_type": "markdown",
      "metadata": {
        "id": "BGC0yGbAEt0U"
      },
      "source": [
        "# NumPy Assignment\n",
        "\n",
        "This assignment consists of 10 tasks designed to help you practice NumPy operations. The tasks are divided into three levels of difficulty: easy, medium, and challenging.\n",
        "\n",
        "---\n",
        "\n",
        "## Easy Tasks:\n",
        "\n",
        "### **Task 1**: Create a 1D NumPy array with the numbers from 1 to 10 and print it.\n"
      ]
    },
    {
      "cell_type": "code",
      "execution_count": 1,
      "metadata": {
        "id": "3NO9PgGaEt0c",
        "colab": {
          "base_uri": "https://localhost:8080/"
        },
        "outputId": "6613e0f1-7418-48b5-d245-77575d9d38e1"
      },
      "outputs": [
        {
          "output_type": "stream",
          "name": "stdout",
          "text": [
            "[ 1  2  3  4  5  6  7  8  9 10]\n"
          ]
        }
      ],
      "source": [
        "import numpy as np\n",
        "\n",
        "arr = np.array([1, 2, 3, 4, 5, 6, 7, 8, 9, 10])\n",
        "\n",
        "print(arr)\n"
      ]
    },
    {
      "cell_type": "markdown",
      "metadata": {
        "id": "gHb-uoEhEt0g"
      },
      "source": [
        "### **Task 2:** Create a 2D NumPy array with 2 rows and 3 columns containing any numbers of your choice."
      ]
    },
    {
      "cell_type": "code",
      "execution_count": 4,
      "metadata": {
        "id": "N_Iat7m1Et0h",
        "colab": {
          "base_uri": "https://localhost:8080/"
        },
        "outputId": "86b08a60-5dc2-4234-eb3c-b19d1e3e8cd4"
      },
      "outputs": [
        {
          "output_type": "stream",
          "name": "stdout",
          "text": [
            "[[1 2 3]\n",
            " [4 5 6]]\n"
          ]
        }
      ],
      "source": [
        "arr = np.array([[1, 2, 3], [4, 5, 6]])\n",
        "\n",
        "print(arr)"
      ]
    },
    {
      "cell_type": "markdown",
      "metadata": {
        "id": "J2mIgwTuEt0i"
      },
      "source": [
        "### **Task 3:** Create an array of zeros with a shape of (4, 4) and print it."
      ]
    },
    {
      "cell_type": "code",
      "execution_count": 5,
      "metadata": {
        "id": "GvVp76MUEt0k",
        "colab": {
          "base_uri": "https://localhost:8080/"
        },
        "outputId": "846b825b-6f7a-4d91-dd84-1d12a4cda027"
      },
      "outputs": [
        {
          "output_type": "stream",
          "name": "stdout",
          "text": [
            "[[0. 0. 0. 0.]\n",
            " [0. 0. 0. 0.]\n",
            " [0. 0. 0. 0.]\n",
            " [0. 0. 0. 0.]]\n"
          ]
        }
      ],
      "source": [
        "arr = np.zeros((4, 4))\n",
        "\n",
        "print(arr)"
      ]
    },
    {
      "cell_type": "markdown",
      "metadata": {
        "id": "AMpWIN-ZEt0m"
      },
      "source": [
        "## Medium-Level Tasks:\n",
        "\n",
        "### **Task 4:** Create a 1D array with the numbers from 1 to 100, and print the sum and mean of the array."
      ]
    },
    {
      "cell_type": "code",
      "execution_count": 8,
      "metadata": {
        "id": "GAzeQ8z8Et0n",
        "colab": {
          "base_uri": "https://localhost:8080/"
        },
        "outputId": "163a8de1-e1f1-4fb1-be28-beb3e0cb53e9"
      },
      "outputs": [
        {
          "output_type": "stream",
          "name": "stdout",
          "text": [
            "Array:\n",
            " [  1   2   3   4   5   6   7   8   9  10  11  12  13  14  15  16  17  18\n",
            "  19  20  21  22  23  24  25  26  27  28  29  30  31  32  33  34  35  36\n",
            "  37  38  39  40  41  42  43  44  45  46  47  48  49  50  51  52  53  54\n",
            "  55  56  57  58  59  60  61  62  63  64  65  66  67  68  69  70  71  72\n",
            "  73  74  75  76  77  78  79  80  81  82  83  84  85  86  87  88  89  90\n",
            "  91  92  93  94  95  96  97  98  99 100]\n",
            "Sum: 5050\n",
            "Mean: 50.5\n"
          ]
        }
      ],
      "source": [
        "arr = np.array(range(1, 101))\n",
        "\n",
        "arr_sum = np.sum(arr)\n",
        "arr_mean = np.mean(arr)\n",
        "\n",
        "print(\"Array:\\n\",arr)\n",
        "print(\"Sum:\", arr_sum)\n",
        "print(\"Mean:\", arr_mean)\n"
      ]
    },
    {
      "cell_type": "markdown",
      "metadata": {
        "id": "QcaBGeHXEt0p"
      },
      "source": [
        "### **Task 5:** Create a 5x5 identity matrix using NumPy."
      ]
    },
    {
      "cell_type": "code",
      "execution_count": 9,
      "metadata": {
        "id": "uod9FgPwEt0q",
        "colab": {
          "base_uri": "https://localhost:8080/"
        },
        "outputId": "cad42eaf-b6fe-4fe1-9796-32907d6163ab"
      },
      "outputs": [
        {
          "output_type": "stream",
          "name": "stdout",
          "text": [
            "[[1. 0. 0. 0. 0.]\n",
            " [0. 1. 0. 0. 0.]\n",
            " [0. 0. 1. 0. 0.]\n",
            " [0. 0. 0. 1. 0.]\n",
            " [0. 0. 0. 0. 1.]]\n"
          ]
        }
      ],
      "source": [
        "identity_matrix = np.eye(5)\n",
        "print(identity_matrix)"
      ]
    },
    {
      "cell_type": "markdown",
      "metadata": {
        "id": "-SAnYjlUEt0s"
      },
      "source": [
        "### **Task 6:** Reshape a 1D array of numbers from 1 to 12 into a 3x4 matrix."
      ]
    },
    {
      "cell_type": "code",
      "execution_count": 10,
      "metadata": {
        "id": "1keUHBJ-Et0t",
        "colab": {
          "base_uri": "https://localhost:8080/"
        },
        "outputId": "bade1306-5af1-42cc-8f42-8eb5154ddb4f"
      },
      "outputs": [
        {
          "output_type": "stream",
          "name": "stdout",
          "text": [
            "[[ 1  2  3  4]\n",
            " [ 5  6  7  8]\n",
            " [ 9 10 11 12]]\n"
          ]
        }
      ],
      "source": [
        "arr = np.array(range(1, 13))\n",
        "\n",
        "reshaped_arr = arr.reshape(3, 4)\n",
        "\n",
        "print(reshaped_arr)\n"
      ]
    },
    {
      "cell_type": "markdown",
      "metadata": {
        "id": "zCVXjMtdEt0u"
      },
      "source": [
        "### **Task 7:** Create two 1D arrays with 5 random numbers each and print the result of element-wise addition."
      ]
    },
    {
      "cell_type": "code",
      "execution_count": 13,
      "metadata": {
        "id": "S8sgWNWpEt0u",
        "colab": {
          "base_uri": "https://localhost:8080/"
        },
        "outputId": "f86296e7-afe0-4de7-8ff6-fb9f4840c9fa"
      },
      "outputs": [
        {
          "output_type": "stream",
          "name": "stdout",
          "text": [
            "Array 1: 2\n",
            "Array 2: 2\n",
            "Element-wise addition: 4\n"
          ]
        }
      ],
      "source": [
        "arr1 = np.random.randint(5)\n",
        "arr2 = np.random.randint(5)\n",
        "\n",
        "result = arr1 + arr2\n",
        "\n",
        "print(\"Array 1:\", arr1)\n",
        "print(\"Array 2:\", arr2)\n",
        "print(\"Element-wise addition:\", result)\n"
      ]
    },
    {
      "cell_type": "markdown",
      "metadata": {
        "id": "ff73G2-9Et0v"
      },
      "source": [
        "## Challenging Tasks:\n",
        "\n",
        "### **Task 8:** Generate a 3x3 matrix with random integers between 1 and 100. Print the maximum, minimum, and sum of all the elements."
      ]
    },
    {
      "cell_type": "code",
      "execution_count": 11,
      "metadata": {
        "id": "SrBV1h0LEt0v",
        "colab": {
          "base_uri": "https://localhost:8080/"
        },
        "outputId": "180cff46-7fdc-48ee-e8bb-a0d26697c374"
      },
      "outputs": [
        {
          "output_type": "stream",
          "name": "stdout",
          "text": [
            "Matrix:\n",
            "[[75 22 17]\n",
            " [ 2 72 21]\n",
            " [52 52 71]]\n",
            "Maximum value: 75\n",
            "Minimum value: 2\n",
            "Sum of all elements: 384\n"
          ]
        }
      ],
      "source": [
        "matrix = np.random.randint(1, 101, size=(3, 3))\n",
        "\n",
        "max_value = np.max(matrix)\n",
        "min_value = np.min(matrix)\n",
        "sum_value = np.sum(matrix)\n",
        "\n",
        "print(\"Matrix:\")\n",
        "print(matrix)\n",
        "print(\"Maximum value:\", max_value)\n",
        "print(\"Minimum value:\", min_value)\n",
        "print(\"Sum of all elements:\", sum_value)\n"
      ]
    },
    {
      "cell_type": "markdown",
      "metadata": {
        "id": "itGAdDo4Et0w"
      },
      "source": [
        "### **Task 9:** Create a 4x4 matrix and replace all the values in the diagonal with 1 (without using identity matrix functions)."
      ]
    },
    {
      "cell_type": "code",
      "execution_count": 22,
      "metadata": {
        "id": "bY8vNmlxEt0x",
        "colab": {
          "base_uri": "https://localhost:8080/"
        },
        "outputId": "6398e578-1ee4-4990-e27c-e4af564f8ac1"
      },
      "outputs": [
        {
          "output_type": "stream",
          "name": "stdout",
          "text": [
            "[[0. 0. 0. 0.]\n",
            " [0. 0. 0. 0.]\n",
            " [0. 0. 0. 0.]\n",
            " [0. 0. 0. 0.]]\n",
            "\n",
            " [[1. 0. 0. 0.]\n",
            " [0. 1. 0. 0.]\n",
            " [0. 0. 1. 0.]\n",
            " [0. 0. 0. 1.]]\n"
          ]
        }
      ],
      "source": [
        "matrix = np.zeros((4, 4))\n",
        "print(matrix)\n",
        "\n",
        "for i in range(4):\n",
        "    matrix[i, i] = 1\n",
        "\n",
        "print(\"\\n\",matrix)\n"
      ]
    },
    {
      "cell_type": "markdown",
      "metadata": {
        "id": "uaQpqQvXEt0y"
      },
      "source": [
        "### **Task 10:** Create an array of 100 random numbers and compute the mean, standard deviation, and variance of the array."
      ]
    },
    {
      "cell_type": "code",
      "execution_count": 27,
      "metadata": {
        "id": "bTxAzhXREt0z",
        "colab": {
          "base_uri": "https://localhost:8080/"
        },
        "outputId": "bc4102e5-09a7-46ff-ab1c-389c2d025098"
      },
      "outputs": [
        {
          "output_type": "stream",
          "name": "stdout",
          "text": [
            "Array: [[ 88 300 484   9  60 254 642 558 659 952]\n",
            " [ 80 515 562 513 830 703 604 273 596   7]\n",
            " [503 814 154 520 160 126 361 414 913 651]\n",
            " [117 104 277 794 979  17 911  27 201 270]\n",
            " [202 220 328 722 117  76 503 534 652 256]\n",
            " [277 694 760 568  59 543 884 164 618 816]\n",
            " [972 127 831 177 669 648   7 902 310 378]\n",
            " [295  51 889 628  41 868  47 990 953 153]\n",
            " [675 734 535 414 604 981 515 520 154 191]\n",
            " [587 441 319 813 954 985 909 849 733 913]]\n",
            "Mean: 487.57\n",
            "Standard Deviation: 306.0322615346297\n",
            "Variance: 93655.7451\n"
          ]
        }
      ],
      "source": [
        "array = np.random.randint(1, 1001, size=(10, 10))\n",
        "\n",
        "mean_value = np.mean(array)\n",
        "std_deviation = np.std(array)\n",
        "variance = np.var(array)\n",
        "\n",
        "print(\"Array:\", array)\n",
        "print(\"Mean:\", mean_value)\n",
        "print(\"Standard Deviation:\", std_deviation)\n",
        "print(\"Variance:\", variance)\n"
      ]
    },
    {
      "cell_type": "markdown",
      "metadata": {
        "id": "uPAvvvf7Et0z"
      },
      "source": [
        "---"
      ]
    }
  ],
  "metadata": {
    "kernelspec": {
      "display_name": "base",
      "language": "python",
      "name": "python3"
    },
    "language_info": {
      "codemirror_mode": {
        "name": "ipython",
        "version": 3
      },
      "file_extension": ".py",
      "mimetype": "text/x-python",
      "name": "python",
      "nbconvert_exporter": "python",
      "pygments_lexer": "ipython3",
      "version": "3.10.6"
    },
    "colab": {
      "provenance": []
    }
  },
  "nbformat": 4,
  "nbformat_minor": 0
}