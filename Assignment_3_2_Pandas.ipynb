{
  "cells": [
    {
      "cell_type": "markdown",
      "metadata": {
        "id": "Z8CKr0WXNcav"
      },
      "source": [
        "[![Open In Colab](https://colab.research.google.com/assets/colab-badge.svg)](https://colab.research.google.com/github/Nepal-College-of-Information-Technology/AI-Data-Science-Worksop-2024/blob/main/Practice%20Yourself/Assignment_3.2_Pandas.ipynb)"
      ]
    },
    {
      "cell_type": "markdown",
      "metadata": {
        "id": "aaXb5e_UNca0"
      },
      "source": [
        "# Pandas Assignment\n",
        "\n",
        "This assignment consists of 10 tasks designed to help you practice data manipulation using Pandas. The tasks are divided into three levels of difficulty: easy, medium, and challenging.\n",
        "\n",
        "---\n",
        "\n",
        "##  Easy Tasks:\n",
        "\n",
        "### **Task 1**: Create a DataFrame with columns 'Name', 'Age', and 'City', and add 5 rows of data."
      ]
    },
    {
      "cell_type": "code",
      "execution_count": 16,
      "metadata": {
        "id": "pu1beuGtNca3",
        "colab": {
          "base_uri": "https://localhost:8080/"
        },
        "outputId": "43bc8bcb-ac22-4ac6-fd67-1250f35aed12"
      },
      "outputs": [
        {
          "output_type": "stream",
          "name": "stdout",
          "text": [
            "       Name  Age        City\n",
            "0   Swopnil   18   Kathmandu\n",
            "1      Jude   20  Birmingham\n",
            "2    Mbappe   25      Monaco\n",
            "3  Valverde   25      Madrid\n",
            "4     Kroos   33      Madrid\n"
          ]
        }
      ],
      "source": [
        "import pandas as pd\n",
        "\n",
        "data = {\n",
        "    'Name': ['Swopnil', 'Jude', 'Mbappe', 'Valverde', 'Kroos'],\n",
        "    'Age': [18, 20, 25, 25, 33],\n",
        "    'City': ['Kathmandu', 'Birmingham', 'Monaco', 'Madrid', 'Madrid']\n",
        "}\n",
        "\n",
        "df = pd.DataFrame(data)\n",
        "\n",
        "print(df)"
      ]
    },
    {
      "cell_type": "markdown",
      "metadata": {
        "id": "dJ8NEaz5Nca6"
      },
      "source": [
        "### **Task 2:** Read the provided employees.csv file and print the first 5 rows."
      ]
    },
    {
      "cell_type": "code",
      "execution_count": 9,
      "metadata": {
        "id": "EDy-oHW6Nca7",
        "colab": {
          "base_uri": "https://localhost:8080/"
        },
        "outputId": "dc3cefe0-1d4d-40d1-e9ac-f6b22aaa815a"
      },
      "outputs": [
        {
          "output_type": "stream",
          "name": "stdout",
          "text": [
            "               Name   Position  Salary\n",
            "0     Dikshya Thapa    Manager   75000\n",
            "1  Prasun Manandhar  Developer   68000\n",
            "2     Avijit Gurung   Designer   56000\n",
            "3   Santosh Neupane     Tester   60000\n",
            "4   Wilson Shrestha         HR   65000\n"
          ]
        }
      ],
      "source": [
        "csv = pd.read_csv('employees.csv')\n",
        "\n",
        "print(csv[:5])\n"
      ]
    },
    {
      "cell_type": "markdown",
      "metadata": {
        "id": "tXhAHiYQNca8"
      },
      "source": [
        "### **Task 3:** Add a new column ‘Salary’ to the DataFrame created in Task 1, and assign random values."
      ]
    },
    {
      "cell_type": "code",
      "execution_count": 17,
      "metadata": {
        "id": "RRNA6DF8Nca9",
        "colab": {
          "base_uri": "https://localhost:8080/"
        },
        "outputId": "19348f84-4dc8-4795-fad6-33291bcc3b1a"
      },
      "outputs": [
        {
          "output_type": "stream",
          "name": "stdout",
          "text": [
            "       Name  Age        City  Salary\n",
            "0   Swopnil   18   Kathmandu   68115\n",
            "1      Jude   20  Birmingham   43344\n",
            "2    Mbappe   25      Monaco   71613\n",
            "3  Valverde   25      Madrid   53688\n",
            "4     Kroos   33      Madrid   61905\n"
          ]
        }
      ],
      "source": [
        "import numpy as np\n",
        "\n",
        "df['Salary'] = np.random.randint(40000, 80001, size=len(df))\n",
        "\n",
        "print(df)"
      ]
    },
    {
      "cell_type": "markdown",
      "metadata": {
        "id": "AJbLvqWWNca-"
      },
      "source": [
        "## Medium-Level Tasks:\n",
        "\n",
        "### **Task 4:** Filter the rows of the DataFrame where ‘Age’ is greater than 25."
      ]
    },
    {
      "cell_type": "code",
      "execution_count": 18,
      "metadata": {
        "id": "VQXbKSUdNca_",
        "colab": {
          "base_uri": "https://localhost:8080/"
        },
        "outputId": "4fc22968-9ceb-48d8-d0f1-9ff324f4a0c0"
      },
      "outputs": [
        {
          "output_type": "stream",
          "name": "stdout",
          "text": [
            "    Name  Age    City  Salary\n",
            "4  Kroos   33  Madrid   61905\n"
          ]
        }
      ],
      "source": [
        "filtered_df = df[df['Age'] > 25]\n",
        "\n",
        "print(filtered_df)"
      ]
    },
    {
      "cell_type": "markdown",
      "metadata": {
        "id": "1dam36TQNcbA"
      },
      "source": [
        "### **Task 5:** Sort the DataFrame by the ‘City’ column in ascending order."
      ]
    },
    {
      "cell_type": "code",
      "execution_count": 19,
      "metadata": {
        "id": "MsBY3aXKNcbB",
        "colab": {
          "base_uri": "https://localhost:8080/"
        },
        "outputId": "556c378b-f428-4f27-a975-6df5a998958f"
      },
      "outputs": [
        {
          "output_type": "stream",
          "name": "stdout",
          "text": [
            "       Name  Age        City  Salary\n",
            "1      Jude   20  Birmingham   43344\n",
            "0   Swopnil   18   Kathmandu   68115\n",
            "3  Valverde   25      Madrid   53688\n",
            "4     Kroos   33      Madrid   61905\n",
            "2    Mbappe   25      Monaco   71613\n"
          ]
        }
      ],
      "source": [
        "sorted_df = df.sort_values(by='City')\n",
        "\n",
        "print(sorted_df)"
      ]
    },
    {
      "cell_type": "markdown",
      "metadata": {
        "id": "FAGA5aPxNcbC"
      },
      "source": [
        "### **Task 6:** Calculate the mean of the ‘Age’ column."
      ]
    },
    {
      "cell_type": "code",
      "execution_count": 20,
      "metadata": {
        "id": "QpLPFjqtNcbC",
        "colab": {
          "base_uri": "https://localhost:8080/"
        },
        "outputId": "6cb5b29f-b388-4406-a808-52bab9481d55"
      },
      "outputs": [
        {
          "output_type": "stream",
          "name": "stdout",
          "text": [
            "Mean of 'Age' column: 24.2\n"
          ]
        }
      ],
      "source": [
        "mean_age = df['Age'].mean()\n",
        "\n",
        "print(\"Mean of 'Age' column:\", mean_age)"
      ]
    },
    {
      "cell_type": "markdown",
      "metadata": {
        "id": "Jd70JglkNcbD"
      },
      "source": [
        "### **Task 7:** Group the DataFrame by ‘City’ and calculate the mean ‘Age’ for each city."
      ]
    },
    {
      "cell_type": "code",
      "execution_count": 21,
      "metadata": {
        "id": "4h17ncskNcbD",
        "colab": {
          "base_uri": "https://localhost:8080/"
        },
        "outputId": "1ee8fd36-883c-4bc8-8f45-7aa1f00d205f"
      },
      "outputs": [
        {
          "output_type": "stream",
          "name": "stdout",
          "text": [
            "City\n",
            "Birmingham    20.0\n",
            "Kathmandu     18.0\n",
            "Madrid        29.0\n",
            "Monaco        25.0\n",
            "Name: Age, dtype: float64\n"
          ]
        }
      ],
      "source": [
        "mean_age_by_city = df.groupby('City')['Age'].mean()\n",
        "\n",
        "print(mean_age_by_city)"
      ]
    },
    {
      "cell_type": "markdown",
      "metadata": {
        "id": "uR1LG3uGNcbD"
      },
      "source": [
        "## Challenging Tasks:\n",
        "\n",
        "### **Task 8:** Load the employees.csv file and create a new column ‘Tax’ where tax is calculated as 10% of the ‘Salary’ column."
      ]
    },
    {
      "cell_type": "code",
      "execution_count": 22,
      "metadata": {
        "id": "Z0_wQbD5NcbE",
        "colab": {
          "base_uri": "https://localhost:8080/"
        },
        "outputId": "077abad3-cc95-4d75-9866-bb63300ff07c"
      },
      "outputs": [
        {
          "output_type": "stream",
          "name": "stdout",
          "text": [
            "               Name     Position  Salary     Tax\n",
            "0     Dikshya Thapa      Manager   75000  7500.0\n",
            "1  Prasun Manandhar    Developer   68000  6800.0\n",
            "2     Avijit Gurung     Designer   56000  5600.0\n",
            "3   Santosh Neupane       Tester   60000  6000.0\n",
            "4   Wilson Shrestha           HR   65000  6500.0\n",
            "5     Rajani Mandal   Programmer   70000  7000.0\n"
          ]
        }
      ],
      "source": [
        "csv['Tax'] = csv['Salary'] * 0.10\n",
        "\n",
        "print(csv)"
      ]
    },
    {
      "cell_type": "markdown",
      "metadata": {
        "id": "lHMlFDJKNcbE"
      },
      "source": [
        "### **Task 9:** Write the DataFrame created in Task 8 to a new CSV file called employees_with_tax.csv."
      ]
    },
    {
      "cell_type": "code",
      "execution_count": 23,
      "metadata": {
        "id": "pRC42XBQNcbF",
        "colab": {
          "base_uri": "https://localhost:8080/"
        },
        "outputId": "2ac01f6d-90c3-494a-fa97-6333771ce4bf"
      },
      "outputs": [
        {
          "output_type": "stream",
          "name": "stdout",
          "text": [
            "Data has been written to employees_with_tax.csv\n"
          ]
        }
      ],
      "source": [
        "csv.to_csv('employees_with_tax.csv', index=False)\n",
        "\n",
        "print(\"Data has been written to employees_with_tax.csv\")"
      ]
    },
    {
      "cell_type": "markdown",
      "metadata": {
        "id": "WSWWT85DNcbF"
      },
      "source": [
        "### **Task 10:** Visualize the count of employees in each city using a bar chart."
      ]
    },
    {
      "cell_type": "code",
      "execution_count": 26,
      "metadata": {
        "id": "DInc_WVENcbG",
        "colab": {
          "base_uri": "https://localhost:8080/",
          "height": 543
        },
        "outputId": "11dc75d7-b69a-4715-a43e-a08c6aa6e7fd"
      },
      "outputs": [
        {
          "output_type": "display_data",
          "data": {
            "text/plain": [
              "<Figure size 640x480 with 1 Axes>"
            ],
            "image/png": "[encoded data removed]"
          },
          "metadata": {}
        }
      ],
      "source": [
        "city_counts = df['City'].value_counts()\n",
        "\n",
        "city_counts.plot(kind='bar', title='Number of Employees in Each City')\n",
        "\n",
        "import matplotlib.pyplot as plt\n",
        "plt.show()"
      ]
    },
    {
      "cell_type": "markdown",
      "metadata": {
        "id": "Jf4BgKcWNcbG"
      },
      "source": [
        "---"
      ]
    }
  ],
  "metadata": {
    "kernelspec": {
      "display_name": "base",
      "language": "python",
      "name": "python3"
    },
    "language_info": {
      "codemirror_mode": {
        "name": "ipython",
        "version": 3
      },
      "file_extension": ".py",
      "mimetype": "text/x-python",
      "name": "python",
      "nbconvert_exporter": "python",
      "pygments_lexer": "ipython3",
      "version": "3.10.6"
    },
    "colab": {
      "provenance": []
    }
  },
  "nbformat": 4,
  "nbformat_minor": 0
}